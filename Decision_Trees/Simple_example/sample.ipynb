{
 "cells": [
  {
   "cell_type": "code",
   "execution_count": 1,
   "metadata": {},
   "outputs": [],
   "source": [
    "import numpy as np\n",
    "\n",
    "rng = np.random.RandomState(123)\n",
    "x = np.sort(5 * rng.rand(80, 1), axis=0)\n",
    "y = np.sin(x).ravel()\n",
    "\n",
    "y[::5] += 3 * (0.5 - rng.rand(16))"
   ]
  },
  {
   "cell_type": "code",
   "execution_count": 3,
   "metadata": {},
   "outputs": [
    {
     "data": {
      "text/plain": [
       "array([ 0.62425937,  0.29398124,  0.40408192,  0.4444182 ,  0.46050372,\n",
       "       -0.02948394,  0.56723398,  0.6927913 ,  0.71372229,  0.76898941,\n",
       "        0.62786059,  0.8255154 ,  0.90622039,  0.90918233,  0.93852481,\n",
       "        1.28284837,  0.99020209,  0.99477946,  0.99874063,  0.99995497,\n",
       "       -0.27551963,  0.99903223,  0.98978966,  0.98949235,  0.97177678,\n",
       "       -0.10002159,  0.91332327,  0.87597893,  0.87063004,  0.85526414,\n",
       "        1.275935  ,  0.84674467,  0.83452981,  0.82662674,  0.81267694,\n",
       "        2.04124558,  0.66419864,  0.62346536,  0.59108981,  0.55592966,\n",
       "        1.10340142,  0.46517809,  0.4639551 ,  0.40433591,  0.37557657,\n",
       "        0.65553249,  0.2756904 ,  0.21032745,  0.16862375,  0.12595656,\n",
       "       -0.52850913,  0.0770436 ,  0.02182616,  0.01707431,  0.00534777,\n",
       "       -1.49936302, -0.03040745, -0.20354392, -0.22978095, -0.26182354,\n",
       "        0.15344416, -0.32976533, -0.33419715, -0.44013786, -0.45344277,\n",
       "       -1.24541682, -0.46238575, -0.48263067, -0.52130919, -0.62631838,\n",
       "       -1.11561782, -0.87725789, -0.8937184 , -0.92835155, -0.94437586,\n",
       "       -1.53455454, -0.97002974, -0.99996463, -0.98173278, -0.97688885])"
      ]
     },
     "execution_count": 3,
     "metadata": {},
     "output_type": "execute_result"
    }
   ],
   "source": [
    "y"
   ]
  },
  {
   "cell_type": "code",
   "execution_count": 4,
   "metadata": {},
   "outputs": [
    {
     "data": {
      "text/html": [
       "<style>#sk-container-id-1 {color: black;}#sk-container-id-1 pre{padding: 0;}#sk-container-id-1 div.sk-toggleable {background-color: white;}#sk-container-id-1 label.sk-toggleable__label {cursor: pointer;display: block;width: 100%;margin-bottom: 0;padding: 0.3em;box-sizing: border-box;text-align: center;}#sk-container-id-1 label.sk-toggleable__label-arrow:before {content: \"▸\";float: left;margin-right: 0.25em;color: #696969;}#sk-container-id-1 label.sk-toggleable__label-arrow:hover:before {color: black;}#sk-container-id-1 div.sk-estimator:hover label.sk-toggleable__label-arrow:before {color: black;}#sk-container-id-1 div.sk-toggleable__content {max-height: 0;max-width: 0;overflow: hidden;text-align: left;background-color: #f0f8ff;}#sk-container-id-1 div.sk-toggleable__content pre {margin: 0.2em;color: black;border-radius: 0.25em;background-color: #f0f8ff;}#sk-container-id-1 input.sk-toggleable__control:checked~div.sk-toggleable__content {max-height: 200px;max-width: 100%;overflow: auto;}#sk-container-id-1 input.sk-toggleable__control:checked~label.sk-toggleable__label-arrow:before {content: \"▾\";}#sk-container-id-1 div.sk-estimator input.sk-toggleable__control:checked~label.sk-toggleable__label {background-color: #d4ebff;}#sk-container-id-1 div.sk-label input.sk-toggleable__control:checked~label.sk-toggleable__label {background-color: #d4ebff;}#sk-container-id-1 input.sk-hidden--visually {border: 0;clip: rect(1px 1px 1px 1px);clip: rect(1px, 1px, 1px, 1px);height: 1px;margin: -1px;overflow: hidden;padding: 0;position: absolute;width: 1px;}#sk-container-id-1 div.sk-estimator {font-family: monospace;background-color: #f0f8ff;border: 1px dotted black;border-radius: 0.25em;box-sizing: border-box;margin-bottom: 0.5em;}#sk-container-id-1 div.sk-estimator:hover {background-color: #d4ebff;}#sk-container-id-1 div.sk-parallel-item::after {content: \"\";width: 100%;border-bottom: 1px solid gray;flex-grow: 1;}#sk-container-id-1 div.sk-label:hover label.sk-toggleable__label {background-color: #d4ebff;}#sk-container-id-1 div.sk-serial::before {content: \"\";position: absolute;border-left: 1px solid gray;box-sizing: border-box;top: 0;bottom: 0;left: 50%;z-index: 0;}#sk-container-id-1 div.sk-serial {display: flex;flex-direction: column;align-items: center;background-color: white;padding-right: 0.2em;padding-left: 0.2em;position: relative;}#sk-container-id-1 div.sk-item {position: relative;z-index: 1;}#sk-container-id-1 div.sk-parallel {display: flex;align-items: stretch;justify-content: center;background-color: white;position: relative;}#sk-container-id-1 div.sk-item::before, #sk-container-id-1 div.sk-parallel-item::before {content: \"\";position: absolute;border-left: 1px solid gray;box-sizing: border-box;top: 0;bottom: 0;left: 50%;z-index: -1;}#sk-container-id-1 div.sk-parallel-item {display: flex;flex-direction: column;z-index: 1;position: relative;background-color: white;}#sk-container-id-1 div.sk-parallel-item:first-child::after {align-self: flex-end;width: 50%;}#sk-container-id-1 div.sk-parallel-item:last-child::after {align-self: flex-start;width: 50%;}#sk-container-id-1 div.sk-parallel-item:only-child::after {width: 0;}#sk-container-id-1 div.sk-dashed-wrapped {border: 1px dashed gray;margin: 0 0.4em 0.5em 0.4em;box-sizing: border-box;padding-bottom: 0.4em;background-color: white;}#sk-container-id-1 div.sk-label label {font-family: monospace;font-weight: bold;display: inline-block;line-height: 1.2em;}#sk-container-id-1 div.sk-label-container {text-align: center;}#sk-container-id-1 div.sk-container {/* jupyter's `normalize.less` sets `[hidden] { display: none; }` but bootstrap.min.css set `[hidden] { display: none !important; }` so we also need the `!important` here to be able to override the default hidden behavior on the sphinx rendered scikit-learn.org. See: https://github.com/scikit-learn/scikit-learn/issues/21755 */display: inline-block !important;position: relative;}#sk-container-id-1 div.sk-text-repr-fallback {display: none;}</style><div id=\"sk-container-id-1\" class=\"sk-top-container\"><div class=\"sk-text-repr-fallback\"><pre>DecisionTreeRegressor(max_depth=5)</pre><b>In a Jupyter environment, please rerun this cell to show the HTML representation or trust the notebook. <br />On GitHub, the HTML representation is unable to render, please try loading this page with nbviewer.org.</b></div><div class=\"sk-container\" hidden><div class=\"sk-item\"><div class=\"sk-estimator sk-toggleable\"><input class=\"sk-toggleable__control sk-hidden--visually\" id=\"sk-estimator-id-1\" type=\"checkbox\" checked><label for=\"sk-estimator-id-1\" class=\"sk-toggleable__label sk-toggleable__label-arrow\">DecisionTreeRegressor</label><div class=\"sk-toggleable__content\"><pre>DecisionTreeRegressor(max_depth=5)</pre></div></div></div></div></div>"
      ],
      "text/plain": [
       "DecisionTreeRegressor(max_depth=5)"
      ]
     },
     "execution_count": 4,
     "metadata": {},
     "output_type": "execute_result"
    }
   ],
   "source": [
    "from sklearn.tree import DecisionTreeRegressor\n",
    "\n",
    "reg1 =DecisionTreeRegressor(max_depth=2)\n",
    "reg2 =DecisionTreeRegressor(max_depth=5)\n",
    "reg1.fit(x,y)\n",
    "reg2.fit(x,y)"
   ]
  },
  {
   "cell_type": "code",
   "execution_count": 6,
   "metadata": {},
   "outputs": [],
   "source": [
    "x_test = np.arange(0.0, 5.0, 0.01)[:, np.newaxis]\n",
    "y1 = reg1.predict(x_test)\n",
    "y2 = reg2.predict(x_test)"
   ]
  },
  {
   "cell_type": "code",
   "execution_count": 7,
   "metadata": {},
   "outputs": [
    {
     "data": {
      "text/plain": [
       "array([ 0.77268089,  0.77268089,  0.77268089,  0.77268089,  0.77268089,\n",
       "        0.77268089,  0.77268089,  0.77268089,  0.77268089,  0.77268089,\n",
       "        0.77268089,  0.77268089,  0.77268089,  0.77268089,  0.77268089,\n",
       "        0.77268089,  0.77268089,  0.77268089,  0.77268089,  0.77268089,\n",
       "        0.77268089,  0.77268089,  0.77268089,  0.77268089,  0.77268089,\n",
       "        0.77268089,  0.77268089,  0.77268089,  0.77268089,  0.77268089,\n",
       "        0.77268089,  0.77268089,  0.77268089,  0.77268089,  0.77268089,\n",
       "        0.77268089,  0.77268089,  0.77268089,  0.77268089,  0.77268089,\n",
       "        0.77268089,  0.77268089,  0.77268089,  0.77268089,  0.77268089,\n",
       "        0.77268089,  0.77268089,  0.77268089,  0.77268089,  0.77268089,\n",
       "        0.77268089,  0.77268089,  0.77268089,  0.77268089,  0.77268089,\n",
       "        0.77268089,  0.77268089,  0.77268089,  0.77268089,  0.77268089,\n",
       "        0.77268089,  0.77268089,  0.77268089,  0.77268089,  0.77268089,\n",
       "        0.77268089,  0.77268089,  0.77268089,  0.77268089,  0.77268089,\n",
       "        0.77268089,  0.77268089,  0.77268089,  0.77268089,  0.77268089,\n",
       "        0.77268089,  0.77268089,  0.77268089,  0.77268089,  0.77268089,\n",
       "        0.77268089,  0.77268089,  0.77268089,  0.77268089,  0.77268089,\n",
       "        0.77268089,  0.77268089,  0.77268089,  0.77268089,  0.77268089,\n",
       "        0.77268089,  0.77268089,  0.77268089,  0.77268089,  0.77268089,\n",
       "        0.77268089,  0.77268089,  0.77268089,  0.77268089,  0.77268089,\n",
       "        0.77268089,  0.77268089,  0.77268089,  0.77268089,  0.77268089,\n",
       "        0.77268089,  0.77268089,  0.77268089,  0.77268089,  0.77268089,\n",
       "        0.77268089,  0.77268089,  0.77268089,  0.77268089,  0.77268089,\n",
       "        0.77268089,  0.77268089,  0.77268089,  0.77268089,  0.77268089,\n",
       "        0.77268089,  0.77268089,  0.77268089,  0.77268089,  0.77268089,\n",
       "        0.77268089,  0.77268089,  0.77268089,  0.77268089,  0.77268089,\n",
       "        0.77268089,  0.77268089,  0.77268089,  0.77268089,  0.77268089,\n",
       "        0.77268089,  0.77268089,  0.77268089,  0.77268089,  0.77268089,\n",
       "        0.77268089,  0.77268089,  0.77268089,  0.77268089,  0.77268089,\n",
       "        0.77268089,  0.77268089,  0.77268089,  0.77268089,  0.77268089,\n",
       "        0.77268089,  0.77268089,  0.77268089,  0.77268089,  0.77268089,\n",
       "        0.77268089,  0.77268089,  0.77268089,  0.77268089,  0.77268089,\n",
       "        0.77268089,  0.77268089,  0.77268089,  0.77268089,  0.77268089,\n",
       "        0.77268089,  0.77268089,  0.77268089,  0.77268089,  0.77268089,\n",
       "        0.77268089,  0.77268089,  0.77268089,  0.77268089,  0.77268089,\n",
       "        0.77268089,  0.77268089,  0.77268089,  0.77268089,  0.77268089,\n",
       "        0.77268089,  0.77268089,  0.77268089,  0.77268089,  0.77268089,\n",
       "        0.77268089,  0.77268089,  0.77268089,  0.77268089,  0.77268089,\n",
       "        0.77268089,  0.77268089,  0.77268089,  0.77268089,  0.77268089,\n",
       "        0.77268089,  0.77268089,  0.77268089,  0.77268089,  0.77268089,\n",
       "        0.77268089,  0.77268089,  0.77268089,  0.77268089,  0.77268089,\n",
       "        0.77268089,  0.77268089,  0.77268089,  0.77268089,  0.77268089,\n",
       "        0.77268089,  0.77268089,  0.77268089,  0.77268089,  0.77268089,\n",
       "        0.77268089,  0.77268089,  0.77268089,  0.77268089,  0.77268089,\n",
       "        0.77268089,  0.77268089,  0.77268089,  0.77268089,  0.77268089,\n",
       "        0.77268089,  0.77268089,  0.77268089,  0.77268089,  0.77268089,\n",
       "        0.77268089,  0.77268089,  0.77268089,  0.77268089,  0.77268089,\n",
       "        0.77268089,  0.77268089,  0.77268089,  0.77268089,  0.77268089,\n",
       "        0.77268089,  0.77268089,  0.77268089,  0.77268089,  0.77268089,\n",
       "        0.77268089,  0.77268089,  0.77268089,  0.77268089,  0.77268089,\n",
       "        0.77268089,  0.77268089,  0.77268089,  0.77268089,  0.77268089,\n",
       "        0.77268089,  0.77268089,  0.77268089,  0.77268089,  0.77268089,\n",
       "        0.77268089,  0.77268089,  0.77268089,  0.34946404,  0.34946404,\n",
       "        0.34946404,  0.34946404,  0.34946404,  0.34946404,  0.34946404,\n",
       "        0.34946404,  0.34946404,  0.34946404,  0.34946404,  0.34946404,\n",
       "        0.34946404,  0.34946404,  0.34946404,  0.34946404,  0.34946404,\n",
       "        0.34946404,  0.34946404,  0.34946404,  0.34946404,  0.34946404,\n",
       "        0.34946404,  0.34946404,  0.34946404,  0.34946404,  0.34946404,\n",
       "        0.34946404,  0.34946404,  0.34946404,  0.34946404,  0.34946404,\n",
       "        0.34946404,  0.34946404,  0.34946404,  0.34946404,  0.34946404,\n",
       "        0.34946404,  0.34946404,  0.34946404,  0.34946404, -0.26908234,\n",
       "       -0.26908234, -0.26908234, -0.26908234, -0.26908234, -0.26908234,\n",
       "       -0.26908234, -0.26908234, -0.26908234, -0.26908234, -0.26908234,\n",
       "       -0.26908234, -0.26908234, -0.26908234, -0.26908234, -0.26908234,\n",
       "       -0.26908234, -0.26908234, -0.26908234, -0.26908234, -0.26908234,\n",
       "       -0.26908234, -0.26908234, -0.26908234, -0.26908234, -0.26908234,\n",
       "       -0.26908234, -0.26908234, -0.26908234, -0.26908234, -0.26908234,\n",
       "       -0.26908234, -0.26908234, -0.26908234, -0.26908234, -0.26908234,\n",
       "       -0.26908234, -0.26908234, -0.26908234, -0.26908234, -0.26908234,\n",
       "       -0.26908234, -0.26908234, -0.26908234, -0.26908234, -0.26908234,\n",
       "       -0.26908234, -0.26908234, -0.26908234, -0.26908234, -0.26908234,\n",
       "       -0.26908234, -0.26908234, -0.26908234, -0.26908234, -0.26908234,\n",
       "       -0.26908234, -0.26908234, -0.90403686, -0.90403686, -0.90403686,\n",
       "       -0.90403686, -0.90403686, -0.90403686, -0.90403686, -0.90403686,\n",
       "       -0.90403686, -0.90403686, -0.90403686, -0.90403686, -0.90403686,\n",
       "       -0.90403686, -0.90403686, -0.90403686, -0.90403686, -0.90403686,\n",
       "       -0.90403686, -0.90403686, -0.90403686, -0.90403686, -0.90403686,\n",
       "       -0.90403686, -0.90403686, -0.90403686, -0.90403686, -0.90403686,\n",
       "       -0.90403686, -0.90403686, -0.90403686, -0.90403686, -0.90403686,\n",
       "       -0.90403686, -0.90403686, -0.90403686, -0.90403686, -0.90403686,\n",
       "       -0.90403686, -0.90403686, -0.90403686, -0.90403686, -0.90403686,\n",
       "       -0.90403686, -0.90403686, -0.90403686, -0.90403686, -0.90403686,\n",
       "       -0.90403686, -0.90403686, -0.90403686, -0.90403686, -0.90403686,\n",
       "       -0.90403686, -0.90403686, -0.90403686, -0.90403686, -0.90403686,\n",
       "       -0.90403686, -0.90403686, -0.90403686, -0.90403686, -0.90403686,\n",
       "       -0.90403686, -0.90403686, -0.90403686, -0.90403686, -0.90403686,\n",
       "       -0.90403686, -0.90403686, -0.90403686, -0.90403686, -0.90403686,\n",
       "       -0.90403686, -0.90403686, -0.90403686, -0.90403686, -0.90403686,\n",
       "       -0.90403686, -0.90403686, -0.90403686, -0.90403686, -0.90403686,\n",
       "       -0.90403686, -0.90403686, -0.90403686, -0.90403686, -0.90403686,\n",
       "       -0.90403686, -0.90403686, -0.90403686, -0.90403686, -0.90403686,\n",
       "       -0.90403686, -0.90403686, -0.90403686, -0.90403686, -0.90403686,\n",
       "       -0.90403686, -0.90403686, -0.90403686, -0.90403686, -0.90403686,\n",
       "       -0.90403686, -0.90403686, -0.90403686, -0.90403686, -0.90403686,\n",
       "       -0.90403686, -0.90403686, -0.90403686, -0.90403686, -0.90403686,\n",
       "       -0.90403686, -0.90403686, -0.90403686, -0.90403686, -0.90403686,\n",
       "       -0.90403686, -0.90403686, -0.90403686, -0.90403686, -0.90403686,\n",
       "       -0.90403686, -0.90403686, -0.90403686, -0.90403686, -0.90403686,\n",
       "       -0.90403686, -0.90403686, -0.90403686, -0.90403686, -0.90403686,\n",
       "       -0.90403686, -0.90403686, -0.90403686, -0.90403686, -0.90403686])"
      ]
     },
     "execution_count": 7,
     "metadata": {},
     "output_type": "execute_result"
    }
   ],
   "source": [
    "y1"
   ]
  },
  {
   "cell_type": "code",
   "execution_count": 8,
   "metadata": {},
   "outputs": [
    {
     "data": {
      "text/plain": [
       "array([ 0.62425937,  0.62425937,  0.62425937,  0.62425937,  0.62425937,\n",
       "        0.62425937,  0.62425937,  0.62425937,  0.62425937,  0.62425937,\n",
       "        0.62425937,  0.62425937,  0.62425937,  0.62425937,  0.62425937,\n",
       "        0.62425937,  0.62425937,  0.62425937,  0.62425937,  0.31470023,\n",
       "        0.31470023,  0.31470023,  0.31470023,  0.31470023,  0.31470023,\n",
       "        0.31470023,  0.31470023,  0.31470023,  0.31470023,  0.31470023,\n",
       "        0.31470023,  0.31470023,  0.31470023,  0.31470023,  0.31470023,\n",
       "        0.31470023,  0.31470023,  0.31470023,  0.31470023,  0.31470023,\n",
       "        0.31470023,  0.31470023,  0.31470023,  0.31470023,  0.31470023,\n",
       "        0.31470023,  0.31470023,  0.31470023,  0.31470023,  0.31470023,\n",
       "        0.31470023,  0.31470023,  0.31470023,  0.31470023,  0.31470023,\n",
       "        0.31470023,  0.31470023,  0.31470023,  0.31470023,  0.31470023,\n",
       "        0.56723398,  0.56723398,  0.56723398,  0.56723398,  0.56723398,\n",
       "        0.56723398,  0.56723398,  0.56723398,  0.56723398,  0.83341398,\n",
       "        0.83341398,  0.83341398,  0.83341398,  0.83341398,  0.83341398,\n",
       "        0.83341398,  0.83341398,  0.83341398,  0.83341398,  0.83341398,\n",
       "        0.83341398,  0.83341398,  0.83341398,  0.83341398,  0.83341398,\n",
       "        0.83341398,  0.83341398,  0.83341398,  0.83341398,  0.83341398,\n",
       "        0.83341398,  0.83341398,  0.83341398,  0.83341398,  0.83341398,\n",
       "        0.83341398,  0.83341398,  0.83341398,  0.83341398,  0.83341398,\n",
       "        0.83341398,  0.83341398,  0.83341398,  0.83341398,  0.83341398,\n",
       "        0.83341398,  0.83341398,  0.83341398,  0.83341398,  0.83341398,\n",
       "        0.83341398,  0.83341398,  0.83341398,  0.83341398,  0.83341398,\n",
       "        0.83341398,  0.83341398,  0.83341398,  0.83341398,  0.83341398,\n",
       "        0.83341398,  0.83341398,  0.83341398,  0.83341398,  0.83341398,\n",
       "        0.83341398,  0.83341398,  0.83341398,  0.83341398,  0.83341398,\n",
       "        0.83341398,  0.83341398,  0.83341398,  0.83341398,  0.83341398,\n",
       "        0.83341398,  0.83341398,  0.83341398,  0.83341398,  0.83341398,\n",
       "        0.83341398,  0.83341398,  0.83341398,  0.83341398,  0.83341398,\n",
       "        0.83341398,  0.83341398,  0.83341398,  0.83341398,  0.83341398,\n",
       "        0.83341398,  0.83341398,  0.83341398,  0.83341398,  0.83341398,\n",
       "        0.83341398,  0.83341398,  0.83341398,  0.83341398,  0.83341398,\n",
       "        0.83341398,  0.83341398,  0.83341398,  0.83341398,  0.83341398,\n",
       "        0.83341398,  0.83341398,  0.83341398,  0.83341398,  0.83341398,\n",
       "        0.83341398,  0.83341398,  0.83341398,  0.83341398,  0.83341398,\n",
       "        0.83341398,  0.83341398,  0.83341398,  0.83341398,  0.83341398,\n",
       "        0.83341398,  0.83341398,  0.83341398,  0.83341398,  0.83341398,\n",
       "        0.83341398,  0.83341398,  0.83341398,  0.83341398,  0.83341398,\n",
       "        0.83341398,  0.83341398,  0.83341398,  0.83341398,  0.83341398,\n",
       "        0.83341398,  0.83341398,  0.83341398,  0.83341398,  0.83341398,\n",
       "        0.83341398,  0.83341398,  0.83341398,  0.83341398,  0.83341398,\n",
       "        0.83341398,  0.83341398,  0.83341398,  0.83341398,  0.83341398,\n",
       "        0.83341398,  0.83341398,  0.83341398,  0.83341398,  0.83341398,\n",
       "        0.83341398,  0.83341398,  0.83341398,  0.83341398,  0.83341398,\n",
       "        0.83341398,  0.83341398,  0.83341398,  0.83341398,  0.83341398,\n",
       "        0.83341398,  0.83341398,  0.83341398,  0.83341398,  0.83341398,\n",
       "        2.04124558,  2.04124558,  2.04124558,  2.04124558,  2.04124558,\n",
       "        2.04124558,  2.04124558,  2.04124558,  2.04124558,  2.04124558,\n",
       "        2.04124558,  0.60867087,  0.60867087,  0.60867087,  0.60867087,\n",
       "        0.60867087,  0.60867087,  0.60867087,  0.60867087,  0.60867087,\n",
       "        0.60867087,  0.60867087,  0.60867087,  0.60867087,  0.60867087,\n",
       "        0.60867087,  0.60867087,  0.60867087,  1.10340142,  1.10340142,\n",
       "        1.10340142,  1.10340142,  1.10340142,  0.4645666 ,  0.4645666 ,\n",
       "        0.4645666 ,  0.4645666 ,  0.4645666 ,  0.4645666 ,  0.4645666 ,\n",
       "        0.38995624,  0.38995624,  0.38995624,  0.38995624,  0.38995624,\n",
       "        0.38995624,  0.38995624,  0.38995624,  0.65553249,  0.65553249,\n",
       "        0.65553249,  0.65553249,  0.65553249,  0.2756904 ,  0.2756904 ,\n",
       "        0.2756904 ,  0.2756904 ,  0.2756904 ,  0.2756904 ,  0.2756904 ,\n",
       "        0.21032745,  0.21032745,  0.21032745,  0.21032745,  0.21032745,\n",
       "        0.21032745,  0.16862375,  0.16862375,  0.16862375,  0.16862375,\n",
       "        0.12595656,  0.12595656,  0.12595656,  0.12595656, -0.52850913,\n",
       "       -0.52850913,  0.0770436 ,  0.0770436 ,  0.0770436 ,  0.0770436 ,\n",
       "        0.01474941,  0.01474941,  0.01474941,  0.01474941,  0.01474941,\n",
       "       -1.49936302, -1.49936302, -0.11442234, -0.11442234, -0.11442234,\n",
       "       -0.11442234, -0.11442234, -0.11442234, -0.11442234, -0.11442234,\n",
       "       -0.11442234, -0.11442234, -0.11442234, -0.11442234, -0.11442234,\n",
       "       -0.11442234, -0.11442234, -0.11442234, -0.11442234, -0.11442234,\n",
       "       -0.11442234, -0.11442234, -0.11442234, -0.11442234, -0.11442234,\n",
       "       -0.11442234, -0.11442234, -0.11442234, -0.11442234, -0.11442234,\n",
       "       -0.11442234, -0.38938578, -0.38938578, -0.38938578, -0.38938578,\n",
       "       -0.38938578, -0.38938578, -0.38938578, -0.38938578, -0.38938578,\n",
       "       -0.38938578, -0.38938578, -0.38938578, -0.38938578, -0.38938578,\n",
       "       -0.38938578, -0.38938578, -0.4887752 , -0.4887752 , -0.4887752 ,\n",
       "       -0.4887752 , -0.4887752 , -0.4887752 , -0.4887752 , -0.4887752 ,\n",
       "       -0.4887752 , -0.4887752 , -0.4887752 , -0.4887752 , -0.4887752 ,\n",
       "       -0.4887752 , -0.62631838, -0.62631838, -0.62631838, -0.62631838,\n",
       "       -0.62631838, -0.62631838, -0.62631838, -0.62631838, -0.62631838,\n",
       "       -0.62631838, -0.62631838, -0.62631838, -0.62631838, -0.62631838,\n",
       "       -0.62631838, -0.62631838, -0.62631838, -0.62631838, -0.62631838,\n",
       "       -0.62631838, -0.62631838, -0.62631838, -1.11561782, -1.11561782,\n",
       "       -1.11561782, -1.11561782, -1.11561782, -1.11561782, -1.11561782,\n",
       "       -1.11561782, -1.11561782, -1.11561782, -1.11561782, -1.11561782,\n",
       "       -1.11561782, -1.11561782, -1.11561782, -1.11561782, -1.11561782,\n",
       "       -1.11561782, -1.11561782, -1.11561782, -0.91092592, -0.91092592,\n",
       "       -0.91092592, -0.91092592, -0.91092592, -0.91092592, -0.91092592,\n",
       "       -0.91092592, -0.91092592, -0.91092592, -0.91092592, -0.91092592,\n",
       "       -0.91092592, -0.91092592, -0.91092592, -0.91092592, -0.91092592,\n",
       "       -0.91092592, -0.91092592, -0.91092592, -0.91092592, -0.91092592,\n",
       "       -0.91092592, -1.53455454, -1.53455454, -1.53455454, -1.53455454,\n",
       "       -0.982154  , -0.982154  , -0.982154  , -0.982154  , -0.982154  ,\n",
       "       -0.982154  , -0.982154  , -0.982154  , -0.982154  , -0.982154  ,\n",
       "       -0.982154  , -0.982154  , -0.982154  , -0.982154  , -0.982154  ,\n",
       "       -0.982154  , -0.982154  , -0.982154  , -0.982154  , -0.982154  ,\n",
       "       -0.982154  , -0.982154  , -0.982154  , -0.982154  , -0.982154  ,\n",
       "       -0.982154  , -0.982154  , -0.982154  , -0.982154  , -0.982154  ,\n",
       "       -0.982154  , -0.982154  , -0.982154  , -0.982154  , -0.982154  ,\n",
       "       -0.982154  , -0.982154  , -0.982154  , -0.982154  , -0.982154  ,\n",
       "       -0.982154  , -0.982154  , -0.982154  , -0.982154  , -0.982154  ,\n",
       "       -0.982154  , -0.982154  , -0.982154  , -0.982154  , -0.982154  ,\n",
       "       -0.982154  , -0.982154  , -0.982154  , -0.982154  , -0.982154  ])"
      ]
     },
     "execution_count": 8,
     "metadata": {},
     "output_type": "execute_result"
    }
   ],
   "source": [
    "y2"
   ]
  },
  {
   "cell_type": "code",
   "execution_count": 9,
   "metadata": {},
   "outputs": [
    {
     "data": {
      "image/png": "[encoded data removed]",
      "text/plain": [
       "<Figure size 640x480 with 1 Axes>"
      ]
     },
     "metadata": {},
     "output_type": "display_data"
    }
   ],
   "source": [
    "import matplotlib.pyplot as plt\n",
    "\n",
    "plt.figure()\n",
    "plt.scatter(x, y, s=20, edgecolor=\"black\", c=\"darkorange\", label=\"data\")\n",
    "plt.plot(x_test, y1, color=\"cornflowerblue\", label=\"max_depth=2\", linewidth=2)\n",
    "plt.plot(x_test, y2, color=\"yellowgreen\", label=\"max_depth=5\", linewidth=2)\n",
    "plt.xlabel(\"data\")\n",
    "plt.ylabel(\"target\")\n",
    "plt.title(\"Decision Tree Regression\")\n",
    "plt.legend()\n",
    "plt.show()"
   ]
  },
  {
   "cell_type": "code",
   "execution_count": null,
   "metadata": {},
   "outputs": [],
   "source": []
  }
 ],
 "metadata": {
  "kernelspec": {
   "display_name": "base",
   "language": "python",
   "name": "python3"
  },
  "language_info": {
   "codemirror_mode": {
    "name": "ipython",
    "version": 3
   },
   "file_extension": ".py",
   "mimetype": "text/x-python",
   "name": "python",
   "nbconvert_exporter": "python",
   "pygments_lexer": "ipython3",
   "version": "3.11.5"
  }
 },
 "nbformat": 4,
 "nbformat_minor": 2
}
